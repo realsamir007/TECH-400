{
  "nbformat": 4,
  "nbformat_minor": 0,
  "metadata": {
    "colab": {
      "provenance": []
    },
    "kernelspec": {
      "name": "python3",
      "display_name": "Python 3"
    },
    "language_info": {
      "name": "python"
    }
  },
  "cells": [
    {
      "cell_type": "code",
      "source": [
        "from google.colab import drive\n",
        "drive.mount('/content/drive')"
      ],
      "metadata": {
        "id": "pJc1LK44-XoW",
        "outputId": "2081e629-3982-46f4-e503-fdf5a7bebcad",
        "colab": {
          "base_uri": "https://localhost:8080/"
        }
      },
      "execution_count": 1,
      "outputs": [
        {
          "output_type": "stream",
          "name": "stdout",
          "text": [
            "Mounted at /content/drive\n"
          ]
        }
      ]
    },
    {
      "cell_type": "code",
      "execution_count": 2,
      "metadata": {
        "id": "HxyNR2098w5U"
      },
      "outputs": [],
      "source": [
        "import os\n",
        "import math\n",
        "import numpy as np"
      ]
    },
    {
      "cell_type": "code",
      "source": [
        "# Function to tokenize the text\n",
        "def tokenize(text):\n",
        "    return text.lower().split()"
      ],
      "metadata": {
        "id": "RejQXqO79eWJ"
      },
      "execution_count": 3,
      "outputs": []
    },
    {
      "cell_type": "code",
      "source": [
        "# Function to calculate term frequency (TF)\n",
        "def term_frequency(term, document):\n",
        "    return document.count(term) / len(document)"
      ],
      "metadata": {
        "id": "754rM7R1CW2e"
      },
      "execution_count": 4,
      "outputs": []
    },
    {
      "cell_type": "code",
      "source": [
        "# Function to calculate inverse document frequency (IDF)\n",
        "def inverse_document_frequency(term, all_documents):\n",
        "    num_docs_containing_term = sum(1 for doc in all_documents if term in doc)\n",
        "    return math.log(len(all_documents) / (1 + num_docs_containing_term))"
      ],
      "metadata": {
        "id": "iTRlybf3CZU_"
      },
      "execution_count": 5,
      "outputs": []
    },
    {
      "cell_type": "code",
      "source": [
        "# Function to compute cosine similarity between two vectors\n",
        "def cosine_similarity(vec1, vec2):\n",
        "    dot_product = np.dot(vec1, vec2)\n",
        "    norm_vec1 = np.linalg.norm(vec1)\n",
        "    norm_vec2 = np.linalg.norm(vec2)\n",
        "    return dot_product / (norm_vec1 * norm_vec2)"
      ],
      "metadata": {
        "id": "5g8afz5DEOeU"
      },
      "execution_count": 6,
      "outputs": []
    },
    {
      "cell_type": "code",
      "source": [
        "# Function to compute TF-IDF for a document\n",
        "def compute_tfidf(document, all_documents, vocab):\n",
        "    tfidf_vector = []\n",
        "    for term in vocab:\n",
        "        tf = term_frequency(term, document)\n",
        "        idf = inverse_document_frequency(term, all_documents)\n",
        "        tfidf_vector.append(tf * idf)\n",
        "    return np.array(tfidf_vector)"
      ],
      "metadata": {
        "id": "GYP5Ag7sCcQ6"
      },
      "execution_count": 7,
      "outputs": []
    },
    {
      "cell_type": "code",
      "source": [
        "# Main function\n",
        "def main():\n",
        "    # Directory containing the text documents\n",
        "    directory = '/content/drive/MyDrive/PBS BSc IT/Year 3/Information Retrievsl System (TECH 400)/Week 3/Assignment Lab/Text Documents'\n",
        "\n",
        "    # Reading all files from the directory\n",
        "    docs = []\n",
        "    filenames = []\n",
        "    for filename in os.listdir(directory):\n",
        "        if filename.endswith(\".txt\"):\n",
        "            with open(os.path.join(directory, filename), \"r\") as file:\n",
        "                content = file.read()\n",
        "                docs.append(content)\n",
        "                filenames.append(filename)\n",
        "\n",
        "    # Hardcoded queries\n",
        "    queries = ['time',\n",
        "               'time universe',\n",
        "               'complex time universe']\n",
        "\n",
        "    # Tokenizing documents and queries\n",
        "    tokenized_docs = [tokenize(doc) for doc in docs]\n",
        "    tokenized_queries = [tokenize(query) for query in queries]\n",
        "\n",
        "    # Building the vocabulary (unique words across all documents)\n",
        "    vocab = sorted(set([word for doc in tokenized_docs for word in doc]))\n",
        "\n",
        "    # Calculate TF-IDF vectors for documents and queries\n",
        "    doc_tfidf_vectors = [compute_tfidf(doc, tokenized_docs, vocab) for doc in tokenized_docs]\n",
        "    query_tfidf_vectors = [compute_tfidf(query, tokenized_docs, vocab) for query in tokenized_queries]\n",
        "\n",
        "    # Calculate cosine similarities\n",
        "    cosine_similarities = []\n",
        "    for query_vector in query_tfidf_vectors:\n",
        "        similarities = [cosine_similarity(query_vector, doc_vector) for doc_vector in doc_tfidf_vectors]\n",
        "        cosine_similarities.append(similarities)\n",
        "\n",
        "    # Write the ranked results to a text file\n",
        "    with open(\"cosine_similarities_ranked_results.txt\", \"w\") as output_file:\n",
        "        for i, query in enumerate(queries):\n",
        "            output_file.write(f\"\\nRanked cosine similarities for query '{query}':\\n\")\n",
        "\n",
        "            # Pair document filenames with their similarity scores\n",
        "            doc_similarity_pairs = list(zip(filenames, cosine_similarities[i]))\n",
        "            # Sort by similarity in descending order\n",
        "            ranked_docs = sorted(doc_similarity_pairs, key=lambda x: x[1], reverse=True)\n",
        "\n",
        "            # Write ranked results\n",
        "            for rank, (filename, score) in enumerate(ranked_docs, 1):\n",
        "                output_file.write(f\"Rank {rank}: Document {filename} - Score: {score:.4f}\\n\")\n",
        "\n",
        "    # Optional: print ranked results for checking\n",
        "    for i, query in enumerate(queries):\n",
        "        print(f\"\\nRanked cosine similarities for query '{query}':\")\n",
        "\n",
        "        # Pair document filenames with their similarity scores\n",
        "        doc_similarity_pairs = list(zip(filenames, cosine_similarities[i]))\n",
        "        # Sort by similarity in descending order\n",
        "        ranked_docs = sorted(doc_similarity_pairs, key=lambda x: x[1], reverse=True)\n",
        "\n",
        "        # Print ranked results\n",
        "        for rank, (filename, score) in enumerate(ranked_docs, 1):\n",
        "            print(f\"Rank {rank}: Document {filename} - Score: {score:.4f}\")\n",
        "\n",
        "if __name__ == \"__main__\":\n",
        "    main()"
      ],
      "metadata": {
        "id": "EdCawHehEDNC",
        "outputId": "aebc1112-b7ff-4a50-d0b3-a843e3427341",
        "colab": {
          "base_uri": "https://localhost:8080/"
        }
      },
      "execution_count": 10,
      "outputs": [
        {
          "output_type": "stream",
          "name": "stdout",
          "text": [
            "\n",
            "Ranked cosine similarities for query 'time':\n",
            "Rank 1: Document christopher_nolan.txt - Score: 0.1428\n",
            "Rank 2: Document stanley_kubrick.txt - Score: 0.0338\n",
            "Rank 3: Document quentin_tarantino.txt - Score: 0.0305\n",
            "Rank 4: Document david_fincher.txt - Score: 0.0000\n",
            "Rank 5: Document anurag_kashyap.txt - Score: 0.0000\n",
            "Rank 6: Document denis_villeneuve.txt - Score: 0.0000\n",
            "Rank 7: Document akira_kurosawa.txt - Score: 0.0000\n",
            "Rank 8: Document boon_joon_ho.txt - Score: 0.0000\n",
            "Rank 9: Document satyajit_ray.txt - Score: 0.0000\n",
            "Rank 10: Document martin_scorsese.txt - Score: 0.0000\n",
            "\n",
            "Ranked cosine similarities for query 'time universe':\n",
            "Rank 1: Document christopher_nolan.txt - Score: 0.1428\n",
            "Rank 2: Document stanley_kubrick.txt - Score: 0.0338\n",
            "Rank 3: Document quentin_tarantino.txt - Score: 0.0305\n",
            "Rank 4: Document david_fincher.txt - Score: 0.0000\n",
            "Rank 5: Document anurag_kashyap.txt - Score: 0.0000\n",
            "Rank 6: Document denis_villeneuve.txt - Score: 0.0000\n",
            "Rank 7: Document akira_kurosawa.txt - Score: 0.0000\n",
            "Rank 8: Document boon_joon_ho.txt - Score: 0.0000\n",
            "Rank 9: Document satyajit_ray.txt - Score: 0.0000\n",
            "Rank 10: Document martin_scorsese.txt - Score: 0.0000\n",
            "\n",
            "Ranked cosine similarities for query 'complex time universe':\n",
            "Rank 1: Document christopher_nolan.txt - Score: 0.1402\n",
            "Rank 2: Document stanley_kubrick.txt - Score: 0.0295\n",
            "Rank 3: Document quentin_tarantino.txt - Score: 0.0267\n",
            "Rank 4: Document denis_villeneuve.txt - Score: 0.0090\n",
            "Rank 5: Document david_fincher.txt - Score: 0.0079\n",
            "Rank 6: Document satyajit_ray.txt - Score: 0.0070\n",
            "Rank 7: Document martin_scorsese.txt - Score: 0.0061\n",
            "Rank 8: Document anurag_kashyap.txt - Score: 0.0000\n",
            "Rank 9: Document akira_kurosawa.txt - Score: 0.0000\n",
            "Rank 10: Document boon_joon_ho.txt - Score: 0.0000\n"
          ]
        }
      ]
    },
    {
      "cell_type": "code",
      "source": [],
      "metadata": {
        "id": "KhmqCso9EURS"
      },
      "execution_count": 8,
      "outputs": []
    }
  ]
}